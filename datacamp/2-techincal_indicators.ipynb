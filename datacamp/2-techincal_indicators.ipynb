{
 "cells": [
  {
   "cell_type": "markdown",
   "metadata": {},
   "source": [
    "# Trend indicator MAs\n",
    "Now let's learn about technical indicators!"
   ]
  },
  {
   "cell_type": "markdown",
   "metadata": {},
   "source": [
    "# What are technical indicators?\n",
    "A technical indicator is a calculation based on historical market data, such as price, volumes, etc. They are essential to technical analysis, which assumes that the market is efficient and prices have incorporated all public information such as financial news or public policies. Traders use technical indicators to gain insight into past price patterns and to anticipate possible future price movements."
   ]
  },
  {
   "cell_type": "markdown",
   "metadata": {},
   "source": [
    "## Types of indicators\n",
    "There are mainly three types of indicators. \n",
    "\n",
    "* **Trend indicators**, such as Moving Average, Average Directional Movement Index, measure the direction or strength of a trend. \n",
    "* **Momentum indicators**, such as Relative Strength Index, measure the velocity of price movement, that is the rate of change in an upward or downward direction. \n",
    "* **Volatility indicators**, such as Bollinger Bands, measure the magnitude of price deviations."
   ]
  },
  {
   "cell_type": "markdown",
   "metadata": {},
   "source": [
    "## The TA-Lib package\n",
    "We will use the TA Lib package to implement technical indicators in Python. TA Lib, which stands for Technical Analysis Library, includes over 150 indicators and is very popular among technical traders. To import the package, use import talib."
   ]
  },
  {
   "cell_type": "code",
   "execution_count": 1,
   "metadata": {},
   "outputs": [
    {
     "ename": "ModuleNotFoundError",
     "evalue": "No module named 'talib'",
     "output_type": "error",
     "traceback": [
      "\u001b[1;31m---------------------------------------------------------------------------\u001b[0m",
      "\u001b[1;31mModuleNotFoundError\u001b[0m                       Traceback (most recent call last)",
      "\u001b[1;32m<ipython-input-1-1ee486ccef90>\u001b[0m in \u001b[0;36m<module>\u001b[1;34m\u001b[0m\n\u001b[1;32m----> 1\u001b[1;33m \u001b[1;32mimport\u001b[0m \u001b[0mtalib\u001b[0m\u001b[1;33m\u001b[0m\u001b[1;33m\u001b[0m\u001b[0m\n\u001b[0m",
      "\u001b[1;31mModuleNotFoundError\u001b[0m: No module named 'talib'"
     ]
    }
   ],
   "source": [
    "import talib"
   ]
  },
  {
   "cell_type": "markdown",
   "metadata": {},
   "source": [
    "## Moving average indicators\n",
    "Let's start with the most commonly used trend indicators: Simple Moving average (SMA) and Exponential Moving Average (EMA). They are called \"moving\" averages because every average value is calculated using data points of the most recent n periods, and hence moves along with the price. Calculating the averages creates a smoothing effect which helps to give a clearer indication of which direction the price is moving - upward, downward, or sideways. Moving averages calculated based on a longer lookback period have more smoothing effects than a shorter one."
   ]
  },
  {
   "cell_type": "markdown",
   "metadata": {},
   "source": [
    "## Simple Moving Average (SMA)\n",
    "An SMA is the arithmetic mean of the past n prices. N is a chosen number of periods for calculating the mean. Earlier, we calculated SMA with the dot rolling dot mean method of a DataFrame. With talib, we can simply call talib dot SMA and pass the DataFrame column, in this case the Close price. Use the timeperiod parameter to specify the averaging period. Note since an n-period SMA needs at least n data points to calculate the first average value, we will get NA values for the first n minus 1 rows. Instead, we can use the tail method to check the last 5 rows."
   ]
  },
  {
   "cell_type": "markdown",
   "metadata": {},
   "source": [
    "## Plotting the SMA\n",
    "We can plot SMAs together with the price with matplotlib. The label is added to indicate each data series. The blue line is the SMA calculated with a shorter lookback period, and it traces the price movement closely. The red line is the SMA calculated with a longer lookback period, and is smoother and less responsive to the price fluctuations."
   ]
  },
  {
   "cell_type": "markdown",
   "metadata": {},
   "source": [
    "## Exponential Moving Average (EMA)\n",
    "Another popular type of moving average is the exponential moving average, or EMA. An EMA is an exponentially weighted average of the last n prices, where the weight decreases exponentially with each previous price. To implement an EMA with talib, call talib dot EMA and pass the DataFrame column as input, in this case the Close price. Similarly, specify the averaging period with the timeperiod parameter."
   ]
  },
  {
   "cell_type": "markdown",
   "metadata": {},
   "source": [
    "## Plotting the EMA\n",
    "As with SMAs, we see when plotting EMAs and the price data, the shorter EMA in blue is more reactive to the price movement compared to the longer EMA in red."
   ]
  },
  {
   "cell_type": "markdown",
   "metadata": {},
   "source": [
    "## SMA vs. EMA\n",
    "The main difference between SMAs and EMAs is that EMAs give higher weight to the more recent data, while SMAs assign equal weight to all data points. As shown in the plot containing EMA and SMA (calculated with the same lookback window), whenever the price makes a big change, the EMA in the orange line is more sensitive to the price move compared to the SMA in the blue line."
   ]
  }
 ],
 "metadata": {
  "kernelspec": {
   "display_name": "Python 3",
   "language": "python",
   "name": "python3"
  },
  "language_info": {
   "codemirror_mode": {
    "name": "ipython",
    "version": 3
   },
   "file_extension": ".py",
   "mimetype": "text/x-python",
   "name": "python",
   "nbconvert_exporter": "python",
   "pygments_lexer": "ipython3",
   "version": "3.8.5"
  },
  "toc": {
   "base_numbering": 1,
   "nav_menu": {},
   "number_sections": true,
   "sideBar": true,
   "skip_h1_title": false,
   "title_cell": "Table of Contents",
   "title_sidebar": "Contents",
   "toc_cell": false,
   "toc_position": {},
   "toc_section_display": true,
   "toc_window_display": false
  },
  "varInspector": {
   "cols": {
    "lenName": 16,
    "lenType": 16,
    "lenVar": 40
   },
   "kernels_config": {
    "python": {
     "delete_cmd_postfix": "",
     "delete_cmd_prefix": "del ",
     "library": "var_list.py",
     "varRefreshCmd": "print(var_dic_list())"
    },
    "r": {
     "delete_cmd_postfix": ") ",
     "delete_cmd_prefix": "rm(",
     "library": "var_list.r",
     "varRefreshCmd": "cat(var_dic_list()) "
    }
   },
   "types_to_exclude": [
    "module",
    "function",
    "builtin_function_or_method",
    "instance",
    "_Feature"
   ],
   "window_display": false
  }
 },
 "nbformat": 4,
 "nbformat_minor": 4
}
