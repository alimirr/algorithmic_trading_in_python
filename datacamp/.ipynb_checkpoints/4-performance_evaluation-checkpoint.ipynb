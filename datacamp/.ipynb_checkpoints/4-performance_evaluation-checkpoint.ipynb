{
 "cells": [
  {
   "cell_type": "markdown",
   "metadata": {},
   "source": [
    "# Performance Evaluation"
   ]
  },
  {
   "cell_type": "markdown",
   "metadata": {},
   "source": [
    "# Strategy return analysis"
   ]
  },
  {
   "cell_type": "markdown",
   "metadata": {},
   "source": [
    "## Obtain detailed backtest stats\n",
    "In previous lessons we have built and backtested several trading strategies and visualized the strategy performance. Now let's look into the details of the backtest statistics. Suppose we have a strategy backtest result saved in bt_result. We can obtain all **backtest statistics by calling  bt_results.stats** and saving it in a DataFrame. The DataFrame is indexed by various performance metrics. There is a lot of information here, so let's focus on several important ones."
   ]
  },
  {
   "cell_type": "code",
   "execution_count": null,
   "metadata": {},
   "outputs": [],
   "source": []
  },
  {
   "cell_type": "markdown",
   "metadata": {},
   "source": [
    "## Strategy returns\n",
    "The most basic metric for strategy performance evaluation is the rate of return. A rate of return is the net gain or loss of a portfolio or asset over a specified time period, for example daily, monthly, or yearly. To obtain the rate of return for different time periods, we can slice the stats dataframe resInfo by the metric names. For example, use daily underscore mean, monthly underscore mean and yearly underscore mean to get the daily, monthly, and annual return respectively. In the code, we format the output to be float numbers with 4 decimal points using the expression after the percentage sign operator. In the output, for example, the daily return is shown as point 1966 or 19 point 66 percent."
   ]
  },
  {
   "cell_type": "markdown",
   "metadata": {},
   "source": [
    "## Compound annual growth rate\n",
    "Another useful return metric is called compound annual growth rate, or CAGR. It is the rate of return that would be required for an asset or trading account to grow from its beginning balance to its ending balance, assuming all the profits were reinvested at the end of each year. For example, an asset may increase in value by 8% in one year, decrease in value by 3% the following year and increase in value by 5% in the next. CAGR helps smooth returns when growth rates are expected to be volatile and inconsistent. It also makes different alternative results easier to compare. We can obtain the CAGR by slicing the stats DataFrame with the name cagr."
   ]
  },
  {
   "cell_type": "markdown",
   "metadata": {},
   "source": [
    "## Plot return histogram\n",
    "We can plot the return histogram to check the distribution of returns. This is easily done by calling plot underscore histograms on bt underscore result. Use the freq argument to specify the return frequencies to be plotted, for example w for weekly. By default it will plot a histogram based on daily returns."
   ]
  },
  {
   "cell_type": "markdown",
   "metadata": {},
   "source": [
    "## Compare strategy lookback returns\n",
    "In addition, we can compare the return results of multiple strategies side by side. Suppose we have run a strategy optimization and have two backtest results saved in bt underscore results. Call display underscore lookback underscore returns on it, and we can compare the lookback returns of both strategies."
   ]
  },
  {
   "cell_type": "code",
   "execution_count": null,
   "metadata": {},
   "outputs": [],
   "source": []
  }
 ],
 "metadata": {
  "kernelspec": {
   "display_name": "Python 3",
   "language": "python",
   "name": "python3"
  },
  "language_info": {
   "codemirror_mode": {
    "name": "ipython",
    "version": 3
   },
   "file_extension": ".py",
   "mimetype": "text/x-python",
   "name": "python",
   "nbconvert_exporter": "python",
   "pygments_lexer": "ipython3",
   "version": "3.8.5"
  },
  "toc": {
   "base_numbering": 1,
   "nav_menu": {},
   "number_sections": true,
   "sideBar": true,
   "skip_h1_title": false,
   "title_cell": "Table of Contents",
   "title_sidebar": "Contents",
   "toc_cell": false,
   "toc_position": {},
   "toc_section_display": true,
   "toc_window_display": false
  },
  "varInspector": {
   "cols": {
    "lenName": 16,
    "lenType": 16,
    "lenVar": 40
   },
   "kernels_config": {
    "python": {
     "delete_cmd_postfix": "",
     "delete_cmd_prefix": "del ",
     "library": "var_list.py",
     "varRefreshCmd": "print(var_dic_list())"
    },
    "r": {
     "delete_cmd_postfix": ") ",
     "delete_cmd_prefix": "rm(",
     "library": "var_list.r",
     "varRefreshCmd": "cat(var_dic_list()) "
    }
   },
   "types_to_exclude": [
    "module",
    "function",
    "builtin_function_or_method",
    "instance",
    "_Feature"
   ],
   "window_display": false
  }
 },
 "nbformat": 4,
 "nbformat_minor": 4
}
