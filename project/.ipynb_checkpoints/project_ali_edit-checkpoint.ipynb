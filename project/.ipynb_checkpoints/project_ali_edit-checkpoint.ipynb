{
 "cells": [
  {
   "cell_type": "code",
   "execution_count": 1,
   "metadata": {},
   "outputs": [],
   "source": [
    "# -*- coding: utf-8 -*-\n",
    "\"\"\"\n",
    "Created on Sat Jun  5 12:59:44 2021\n",
    "\n",
    "@author: LK\n",
    "\"\"\"\n",
    "\n",
    "\n",
    "import bt\n",
    "import talib\n",
    "import numpy as np\n",
    "import pandas as pd\n",
    "import matplotlib.pyplot as plt\n",
    "%matplotlib inline"
   ]
  },
  {
   "cell_type": "code",
   "execution_count": 2,
   "metadata": {},
   "outputs": [],
   "source": [
    "# import Strategies\n",
    "from methods import get_indicator_signal, plot_bband_dema\n",
    "\n",
    "\"\"\"\n",
    "\n",
    "Strategy based on own Signals\n",
    "\n",
    "\"\"\"\n",
    "\n",
    "#Methods work currently only for one asset at a time\n",
    "asset = 'BTC-USD'\n",
    "\n",
    "# 2014-09-16 to 2017-12-31\n",
    "\n",
    "# Specify\n",
    "start = '16-09-2014'\n",
    "end = '31-12-2017'\n",
    "\n",
    "# BBands\n",
    "t_bbands = 80\n",
    "nbdevup = 1\n",
    "nbdevdn = 1\n",
    "\n",
    "# DEMA\n",
    "fast_range = np.arange(20,30, 1)\n",
    "slow_range = np.arange(90,130,1)\n",
    "t_fast = 20\n",
    "t_slow = 100\n",
    "\n",
    "strat_dict = {}"
   ]
  },
  {
   "cell_type": "code",
   "execution_count": null,
   "metadata": {},
   "outputs": [],
   "source": [
    "for t_fast in fast_range:\n",
    "    for t_slow in slow_range:\n",
    "        # Get Indicators and Signals \n",
    "        indicators,signals = get_indicator_signal(asset=asset,start=start,end=end,t_fast=t_fast,t_slow=t_slow,t_bbands=t_bbands, nbdevup=nbdevup, nbdevdn=nbdevdn)\n",
    "        \n",
    "#         temp_df = bt.merge(indicators,signals)\n",
    "        \n",
    "        # Plot the data\n",
    "#         bband_dema_fig = plot_bband_dema(asset=asset,indicators=indicators,signals=signals)\n",
    "\n",
    "        # Get the target weights of the DEMA Strategy\n",
    "\n",
    "        target_weight = pd.DataFrame(signals['DEMA'])\n",
    "        target_weight.columns = [asset]\n",
    "\n",
    "        # Create DEMA Strategy\n",
    "\n",
    "        dema_crossover = bt.Strategy('DEMA_Crossover', \n",
    "                                   [bt.algos.WeighTarget(target_weight),\n",
    "                                    bt.algos.Rebalance()],\n",
    "                                   )\n",
    "\n",
    "        #Create and run Backtest\n",
    "\n",
    "        backtest = bt.Backtest(dema_crossover, pd.DataFrame(indicators[asset]))\n",
    "        run = bt.run(backtest)\n",
    "        \n",
    "        strat_dict[f'{t_fast}_{t_slow}_strategy'] = run\n",
    "\n",
    "    \n",
    "import winsound\n",
    "frequency = 2500  # Set Frequency To 2500 Hertz\n",
    "duration = 100  # Set Duration To 1000 ms == 1 second\n",
    "winsound.Beep(frequency, duration)\n",
    "\n",
    "# plt.show()"
   ]
  },
  {
   "cell_type": "code",
   "execution_count": null,
   "metadata": {},
   "outputs": [],
   "source": [
    "max_return = 0.0\n",
    "max_return_key = ''\n",
    "for key in strat_dict:\n",
    "    current_key_total_return = float(strat_dict[key].stats.loc['total_return'])\n",
    "    if current_key_total_return > max_return:\n",
    "        max_return = current_key_total_return\n",
    "        max_return_key = key\n",
    "        \n",
    "# print(float(current_key_total_return))"
   ]
  },
  {
   "cell_type": "code",
   "execution_count": null,
   "metadata": {},
   "outputs": [],
   "source": [
    "print(max_return)\n",
    "print(max_return_key)"
   ]
  },
  {
   "cell_type": "code",
   "execution_count": null,
   "metadata": {},
   "outputs": [],
   "source": [
    "\"\"\" \n",
    "\n",
    "DEMA-Strategy\n",
    "- Go long if Fast DEMA > Slow DEMA\n",
    "- Go short if Fast DEMA < Slow DEMA\n",
    "\n",
    "\"\"\"\n",
    "\n",
    "# Get the target weights of the DEMA Strategy\n",
    "\n",
    "target_weight = pd.DataFrame(signals['DEMA'])\n",
    "target_weight.columns = [asset]\n",
    "\n",
    "# Create DEMA Strategy\n",
    "\n",
    "dema_crossover = bt.Strategy('DEMA_Crossover', \n",
    "                           [bt.algos.WeighTarget(target_weight),\n",
    "                            bt.algos.Rebalance()],\n",
    "                           )\n",
    "\n",
    "#Create and run Backtest\n",
    "\n",
    "backtest = bt.Backtest(dema_crossover, pd.DataFrame(indicators[asset]))\n",
    "run = bt.run(backtest)\n",
    "\n",
    "# Display results\n",
    "run.plot()\n",
    "run.display()\n",
    "run.plot_security_weights()\n",
    "\n",
    "\"\"\"\n",
    "\n",
    "BBANDS Strategy\n",
    "- Go long if price goes below Upperband\n",
    "\n",
    "\"\"\"\n",
    "\n",
    "\n",
    "# Get the target weights of the DEMA Strategy\n",
    "\n",
    "target_weight = pd.DataFrame(signals['BBAND'])\n",
    "target_weight.columns = [asset]\n",
    "\n",
    "\n",
    "bbands = bt.Strategy('BDands_Crossover_Up', \n",
    "                           [bt.algos.WeighTarget(target_weight),\n",
    "                            bt.algos.Rebalance()],\n",
    "                           )\n",
    "\n",
    "backtest = bt.Backtest(bbands, pd.DataFrame(indicators[asset]))\n",
    "\n",
    "run = bt.run(backtest)"
   ]
  },
  {
   "cell_type": "code",
   "execution_count": null,
   "metadata": {},
   "outputs": [],
   "source": [
    "# Display results\n",
    "run.plot()"
   ]
  },
  {
   "cell_type": "code",
   "execution_count": null,
   "metadata": {
    "scrolled": true
   },
   "outputs": [],
   "source": [
    "\n",
    "# BBands\n",
    "t_bbands = 80\n",
    "nbdevup = 1\n",
    "nbdevdn = 1\n",
    "\n",
    "t_bbands_range = np.arange(60, 200, 5)\n",
    "nbdevup_range = np.arange(0.8, 2, 0.1)\n",
    "nbdevdn_range = np.arange(0.8, 2, 0.1)\n",
    "\n",
    "\n",
    "\n",
    "bbands_result_dict = {}\n",
    "\n",
    "for t_bbands in t_bbands_range:\n",
    "    for nbdevup in nbdevup_range:\n",
    "        for nbdevdn in nbdevdn_range:\n",
    "            # Get Indicators and Signals \n",
    "            indicators,signals = get_indicator_signal(asset=asset,start=start,end=end,t_fast=t_fast,t_slow=t_slow,t_bbands=t_bbands, nbdevup=nbdevup, nbdevdn=nbdevdn)\n",
    "\n",
    "            target_weight = pd.DataFrame(signals['BBAND'])\n",
    "            target_weight.columns = [asset]\n",
    "\n",
    "\n",
    "            bbands = bt.Strategy('BDands_Crossover_Up', \n",
    "                                       [bt.algos.WeighTarget(target_weight),\n",
    "                                        bt.algos.Rebalance()],\n",
    "                                       )\n",
    "\n",
    "            backtest_bbands = bt.Backtest(bbands, pd.DataFrame(indicators[asset]))\n",
    "            \n",
    "\n",
    "\n",
    "            run = bt.run(backtest_bbands)\n",
    "            \n",
    "            bbands_result_dict[f'{nbdevdn}_{nbdevup}_{t_bbands}_strategy'] = run\n",
    "    print(t_bbands)\n",
    "frequency = 2500  # Set Frequency To 2500 Hertz\n",
    "duration = 100  # Set Duration To 1000 ms == 1 second\n",
    "winsound.Beep(frequency, duration)\n",
    "            "
   ]
  },
  {
   "cell_type": "code",
   "execution_count": null,
   "metadata": {},
   "outputs": [],
   "source": [
    "max_return = 0.0\n",
    "max_return_key = ''\n",
    "for key in bbands_result_dict:\n",
    "    current_key_total_return = float(bbands_result_dict[key].stats.loc['total_return'])\n",
    "    if current_key_total_return > max_return:\n",
    "        max_return = current_key_total_return\n",
    "        max_return_key = key\n",
    "        \n",
    "print(max_return)\n",
    "print(max_return_key)"
   ]
  },
  {
   "cell_type": "code",
   "execution_count": null,
   "metadata": {},
   "outputs": [],
   "source": []
  },
  {
   "cell_type": "code",
   "execution_count": null,
   "metadata": {},
   "outputs": [],
   "source": [
    "for key in bbands_result_dict:\n",
    "    print(key)\n",
    "    print(strat_dict[key].stats.loc['total_return'])\n",
    "    print('_____________________')"
   ]
  },
  {
   "cell_type": "code",
   "execution_count": null,
   "metadata": {},
   "outputs": [],
   "source": [
    "t = 100\n",
    "devup = 1.0\n",
    "devdn = 100\n",
    "\n",
    "# 2018-01-01 to 2019-12-31\n",
    "# Specify\n",
    "start = '01-01-2018'\n",
    "end = '31-12-2019'\n",
    "\n",
    "indicators,signals = get_indicator_signal(asset=asset,start=start,end=end,t_fast=t_fast,t_slow=t_slow,t_bbands=t_bbands, nbdevup=nbdevup, nbdevdn=nbdevdn)\n",
    "\n",
    "target_weight = pd.DataFrame(signals['BBAND'])\n",
    "target_weight.columns = [asset]\n",
    "\n",
    "\n",
    "bbands = bt.Strategy('BDands_Crossover_Up', \n",
    "                           [bt.algos.WeighTarget(target_weight),\n",
    "                            bt.algos.Rebalance()],\n",
    "                           )\n",
    "\n",
    "backtest_bbands = bt.Backtest(bbands, pd.DataFrame(indicators[asset]))\n",
    "\n",
    "\n",
    "\n",
    "run = bt.run(backtest_bbands)"
   ]
  },
  {
   "cell_type": "code",
   "execution_count": null,
   "metadata": {},
   "outputs": [],
   "source": [
    "bbands_result_dict['0.8_1.0_100_strategy'].plot()\n",
    "run.plot()\n",
    "plt.show()"
   ]
  },
  {
   "cell_type": "code",
   "execution_count": null,
   "metadata": {},
   "outputs": [],
   "source": []
  }
 ],
 "metadata": {
  "kernelspec": {
   "display_name": "Python 3",
   "language": "python",
   "name": "python3"
  },
  "language_info": {
   "codemirror_mode": {
    "name": "ipython",
    "version": 3
   },
   "file_extension": ".py",
   "mimetype": "text/x-python",
   "name": "python",
   "nbconvert_exporter": "python",
   "pygments_lexer": "ipython3",
   "version": "3.8.5"
  },
  "toc": {
   "base_numbering": 1,
   "nav_menu": {},
   "number_sections": true,
   "sideBar": true,
   "skip_h1_title": false,
   "title_cell": "Table of Contents",
   "title_sidebar": "Contents",
   "toc_cell": false,
   "toc_position": {},
   "toc_section_display": true,
   "toc_window_display": false
  },
  "varInspector": {
   "cols": {
    "lenName": 16,
    "lenType": 16,
    "lenVar": 40
   },
   "kernels_config": {
    "python": {
     "delete_cmd_postfix": "",
     "delete_cmd_prefix": "del ",
     "library": "var_list.py",
     "varRefreshCmd": "print(var_dic_list())"
    },
    "r": {
     "delete_cmd_postfix": ") ",
     "delete_cmd_prefix": "rm(",
     "library": "var_list.r",
     "varRefreshCmd": "cat(var_dic_list()) "
    }
   },
   "position": {
    "height": "577px",
    "left": "1547px",
    "right": "20px",
    "top": "120px",
    "width": "353px"
   },
   "types_to_exclude": [
    "module",
    "function",
    "builtin_function_or_method",
    "instance",
    "_Feature"
   ],
   "window_display": false
  }
 },
 "nbformat": 4,
 "nbformat_minor": 4
}
