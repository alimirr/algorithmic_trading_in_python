{
 "cells": [
  {
   "cell_type": "code",
   "execution_count": null,
   "metadata": {},
   "outputs": [],
   "source": [
    "# -*- coding: utf-8 -*-\n",
    "\"\"\"\n",
    "Created on Wed Nov 13 00:38:59 2019\n",
    "\n",
    "This scripts shows how to add additional strats to a backtest, plots, and results\n",
    "\n",
    "@author: MichaelRolleigh\n",
    "\"\"\""
   ]
  },
  {
   "cell_type": "code",
   "execution_count": null,
   "metadata": {},
   "outputs": [],
   "source": [
    "import bt"
   ]
  },
  {
   "cell_type": "code",
   "execution_count": 1,
   "metadata": {},
   "outputs": [
    {
     "name": "stdout",
     "output_type": "stream",
     "text": [
      "Stat                 First Strat    Second Strat\n",
      "-------------------  -------------  --------------\n",
      "Start                2010-01-03     2010-01-03\n",
      "End                  2021-06-03     2021-06-03\n",
      "Risk-free rate       0.00%          0.00%\n",
      "\n",
      "Total Return         173.34%        85.93%\n",
      "Daily Sharpe         1.09           1.30\n",
      "Daily Sortino        1.65           1.94\n",
      "CAGR                 9.21%          5.58%\n",
      "Max Drawdown         -18.41%        -10.38%\n",
      "Calmar Ratio         0.50           0.54\n",
      "\n",
      "MTD                  -0.29%         -0.17%\n",
      "3m                   4.93%          2.00%\n",
      "6m                   6.05%          0.63%\n",
      "YTD                  4.62%          -0.01%\n",
      "1Y                   16.65%         4.13%\n",
      "3Y (ann.)            11.66%         7.92%\n",
      "5Y (ann.)            10.20%         6.22%\n",
      "10Y (ann.)           9.12%          5.34%\n",
      "Since Incep. (ann.)  9.21%          5.58%\n",
      "\n",
      "Daily Sharpe         1.09           1.30\n",
      "Daily Sortino        1.65           1.94\n",
      "Daily Mean (ann.)    9.18%          5.53%\n",
      "Daily Vol (ann.)     8.44%          4.25%\n",
      "Daily Skew           -1.01          -2.46\n",
      "Daily Kurt           19.25          61.12\n",
      "Best Day             4.77%          2.84%\n",
      "Worst Day            -6.63%         -4.66%\n",
      "\n",
      "Monthly Sharpe       1.34           1.71\n",
      "Monthly Sortino      2.68           3.74\n",
      "Monthly Mean (ann.)  9.25%          5.59%\n",
      "Monthly Vol (ann.)   6.92%          3.28%\n",
      "Monthly Skew         -0.12          -0.09\n",
      "Monthly Kurt         1.65           1.29\n",
      "Best Month           7.57%          4.05%\n",
      "Worst Month          -6.44%         -2.17%\n",
      "\n",
      "Yearly Sharpe        1.40           1.24\n",
      "Yearly Sortino       16.43          140.94\n",
      "Yearly Mean          8.77%          5.27%\n",
      "Yearly Vol           6.25%          4.25%\n",
      "Yearly Skew          -0.05          0.12\n",
      "Yearly Kurt          -0.34          -1.14\n",
      "Best Year            19.64%         11.71%\n",
      "Worst Year           -1.77%         -0.12%\n",
      "\n",
      "Avg. Drawdown        -0.78%         -0.43%\n",
      "Avg. Drawdown Days   12.62          13.04\n",
      "Avg. Up Month        1.72%          0.90%\n",
      "Avg. Down Month      -1.53%         -0.67%\n",
      "Win Year %           90.91%         81.82%\n",
      "Win 12m %            96.06%         94.49%\n"
     ]
    }
   ],
   "source": [
    "# Fetch some data\n",
    "data = bt.get('spy,agg', start='2010-01-01')\n",
    "\n",
    "# Recreate the strategy named First_Strat\n",
    "First_Strat = bt.Strategy('First Strat', [bt.algos.RunMonthly(),\n",
    "                                     bt.algos.SelectAll(),\n",
    "                                     bt.algos.WeighEqually(),\n",
    "                                     bt.algos.Rebalance()])\n",
    "\n",
    "# Create a backtest named test\n",
    "test = bt.Backtest(First_Strat, data)\n",
    "\n",
    "# create a second strategy named Second_Strat\n",
    "# Note only difference from First_Strat is that we RunWeekly and Weight using Inverse Volatility\n",
    "# This means the strategy will make more trades and put more weight on less Volatile asset\n",
    "Second_Strat = bt.Strategy('Second Strat', [bt.algos.RunWeekly(),\n",
    "                        bt.algos.SelectAll(),\n",
    "                        bt.algos.WeighInvVol(),\n",
    "                        bt.algos.Rebalance()])\n",
    "\n",
    "# Test Second_Strat and name it test2\n",
    "test2 = bt.Backtest(Second_Strat, data)\n",
    "\n",
    "# To see the results side-by-side, we must tell the bt.run to use both tests\n",
    "# All res2 commands will produce output comparing s1 and s2 because we have test and test2\n",
    "results_both = bt.run(test, test2)\n",
    "\n",
    "# res_First_Strat only has test in it, so you will only see Second_Strat from it\n",
    "res_First_Strat = bt.run(test)\n",
    "\n",
    "# res_Second_Strat only has test2 in it, so you will only see Second_Strat from it\n",
    "res_Second_Strat = bt.run(test2)\n",
    "\n",
    "# res2 plots here include both s1 and s2 info\n",
    "results_both.plot()\n",
    "\n",
    "results_both\n",
    "\n",
    "# Plot weights from the first strategy to illustrate the different weighting schemes\n",
    "res_First_Strat.plot_security_weights()\n",
    "res_Second_Strat.plot_security_weights()\n",
    "# For some reason, I cannot plot weights or histograms for both at the same time\n",
    "results_both.plot_security_weights()"
   ]
  }
 ],
 "metadata": {
  "kernelspec": {
   "display_name": "Python 3",
   "language": "python",
   "name": "python3"
  },
  "language_info": {
   "codemirror_mode": {
    "name": "ipython",
    "version": 3
   },
   "file_extension": ".py",
   "mimetype": "text/x-python",
   "name": "python",
   "nbconvert_exporter": "python",
   "pygments_lexer": "ipython3",
   "version": "3.8.5"
  },
  "toc": {
   "base_numbering": 1,
   "nav_menu": {},
   "number_sections": true,
   "sideBar": true,
   "skip_h1_title": false,
   "title_cell": "Table of Contents",
   "title_sidebar": "Contents",
   "toc_cell": false,
   "toc_position": {},
   "toc_section_display": true,
   "toc_window_display": false
  },
  "varInspector": {
   "cols": {
    "lenName": 16,
    "lenType": 16,
    "lenVar": 40
   },
   "kernels_config": {
    "python": {
     "delete_cmd_postfix": "",
     "delete_cmd_prefix": "del ",
     "library": "var_list.py",
     "varRefreshCmd": "print(var_dic_list())"
    },
    "r": {
     "delete_cmd_postfix": ") ",
     "delete_cmd_prefix": "rm(",
     "library": "var_list.r",
     "varRefreshCmd": "cat(var_dic_list()) "
    }
   },
   "types_to_exclude": [
    "module",
    "function",
    "builtin_function_or_method",
    "instance",
    "_Feature"
   ],
   "window_display": false
  }
 },
 "nbformat": 4,
 "nbformat_minor": 4
}
